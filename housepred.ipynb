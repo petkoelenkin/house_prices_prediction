{
 "cells": [
  {
   "cell_type": "markdown",
   "metadata": {},
   "source": [
    "## Start "
   ]
  },
  {
   "cell_type": "code",
   "execution_count": null,
   "metadata": {},
   "outputs": [],
   "source": []
  },
  {
   "cell_type": "code",
   "execution_count": null,
   "metadata": {},
   "outputs": [],
   "source": []
  },
  {
   "cell_type": "code",
   "execution_count": 4,
   "metadata": {},
   "outputs": [],
   "source": [
    "import sklearn"
   ]
  },
  {
   "cell_type": "code",
   "execution_count": 5,
   "metadata": {},
   "outputs": [],
   "source": [
    "import pandas as pd\n",
    "import numpy as np\n",
    "import matplotlib.pyplot as plt\n",
    "import seaborn as sn\n",
    "import warnings\n",
    "from sklearn.linear_model import RANSACRegressor\n",
    "from lazypredict.Supervised import LazyRegressor\n",
    "from sklearn.metrics import mean_squared_error, make_scorer\n",
    "from sklearn.model_selection import train_test_split"
   ]
  },
  {
   "cell_type": "code",
   "execution_count": 6,
   "metadata": {},
   "outputs": [
    {
     "ename": "NameError",
     "evalue": "name 'warnings' is not defined",
     "output_type": "error",
     "traceback": [
      "\u001b[1;31m---------------------------------------------------------------------------\u001b[0m",
      "\u001b[1;31mNameError\u001b[0m                                 Traceback (most recent call last)",
      "Cell \u001b[1;32mIn[6], line 4\u001b[0m\n\u001b[0;32m      2\u001b[0m plt\u001b[38;5;241m.\u001b[39mstyle\u001b[38;5;241m.\u001b[39muse(\u001b[38;5;124m'\u001b[39m\u001b[38;5;124mggplot\u001b[39m\u001b[38;5;124m'\u001b[39m)\n\u001b[0;32m      3\u001b[0m get_ipython()\u001b[38;5;241m.\u001b[39mrun_line_magic(\u001b[38;5;124m'\u001b[39m\u001b[38;5;124mmatplotlib\u001b[39m\u001b[38;5;124m'\u001b[39m, \u001b[38;5;124m'\u001b[39m\u001b[38;5;124minline\u001b[39m\u001b[38;5;124m'\u001b[39m)\n\u001b[1;32m----> 4\u001b[0m \u001b[43mwarnings\u001b[49m\u001b[38;5;241m.\u001b[39mfilterwarnings(\u001b[38;5;124m'\u001b[39m\u001b[38;5;124mignore\u001b[39m\u001b[38;5;124m'\u001b[39m)\n",
      "\u001b[1;31mNameError\u001b[0m: name 'warnings' is not defined"
     ]
    }
   ],
   "source": [
    "#Backend \"\"\"\n",
    "\n",
    "plt.style.use('ggplot')\n",
    "%matplotlib inline\n",
    "warnings.filterwarnings('ignore')\"\"\""
   ]
  },
  {
   "cell_type": "code",
   "execution_count": 80,
   "metadata": {},
   "outputs": [],
   "source": [
    "df = pd.read_csv('train.csv')\n",
    "df_copy = df.copy()"
   ]
  },
  {
   "cell_type": "code",
   "execution_count": 81,
   "metadata": {},
   "outputs": [],
   "source": [
    "features = {\n",
    "    'LandContour': ['Low', 'HLS', 'Bnk', 'Lvl'],\n",
    "    'Utilities': ['ELO', 'NoSeWa', 'NoSeWr', 'AllPub'],\n",
    "    'LandSlope': ['Gtl', 'Mod', 'Sev'],\n",
    "    'ExterQual': ['Po', 'Fa', 'TA', 'Gd', 'Ex'],\n",
    "    'ExterCond': ['Po', 'Fa', 'TA', 'Gd', 'Ex'],\n",
    "    'HeatingQC': ['Po', 'Fa', 'TA', 'Gd', 'Ex'],\n",
    "    'Electrical': [np.nan,'Mix', 'FuseP','FuseF','FuseA', 'SBrkr'],\n",
    "    'KitchenQual': ['Po', 'Fa', 'TA', 'Gd', 'Ex'],\n",
    "    'PavedDrive': ['N', 'P', 'Y'],\n",
    "    'GarageQual':[np.nan,'Po','Fa','TA','Gd','Ex' ],\n",
    "    'GarageCond':[np.nan,'Po','Fa','TA','Gd','Ex' ],\n",
    "    'PoolQC':[np.nan,'Po','Fa','TA','Gd','Ex' ],\n",
    "    'Fence':[np.nan,'MnWw','GdWo','MnPrv','GdPrv' ],\n",
    "    'GarageFinish':[np.nan,'Unf','RFn','Fin'  ],\n",
    "    'GarageType':[np.nan,'Detchd','CarPort','BuiltIn','Basment','Attchd','Types','2Types'], \n",
    "    'FireplaceQu':[np.nan,'Po','Fa','TA','Gd','Ex'  ],\n",
    "    'BsmtQual':[np.nan,'Po','Fa','TA','Gd','Ex'  ],\n",
    "    'BsmtCond':[np.nan,'Po','Fa','TA','Gd','Ex'  ],\n",
    "    'BsmtExposure':[np.nan,'No','Mn','Av','Gd'],\n",
    "    'BsmtFinType1':[np.nan,'Unf','LwQ','Rec','BLQ','ALQ','GLQ'],\n",
    "    'BsmtFinType2':[np.nan,'Unf','LwQ','Rec','BLQ','ALQ','GLQ'],\n",
    "    'HouseStyle':['SLvl','SFoyer','1Story','1.5Unf','1.5Fin','2Story','2.5Unf','2.5Fin'],\n",
    "    'Functional':['Typ','Min1','Min2','Mod','Maj1','Maj2','Sev','Sal'] \n",
    "    \n",
    "}"
   ]
  },
  {
   "cell_type": "code",
   "execution_count": 82,
   "metadata": {},
   "outputs": [],
   "source": [
    "def ordinal_encoder(df, features={}):\n",
    "    for column in features.keys():\n",
    "        if column not in df.columns:\n",
    "            continue\n",
    "        for val in df[column].unique():\n",
    "            if val not in features[column]:\n",
    "                continue\n",
    "            vals = features[column]\n",
    "            df[column] = df[column].replace(val, vals.index(val) + 1)\n",
    "    return df\n",
    "df = ordinal_encoder(df,features)"
   ]
  },
  {
   "cell_type": "code",
   "execution_count": 83,
   "metadata": {},
   "outputs": [],
   "source": [
    "# List of columns to be converted into dummy features\n",
    "columns_to_dummify = ['MSZoning', 'Street', 'Alley', 'LotShape', 'LotConfig', 'Neighborhood', 'Condition1', 'Condition2',\n",
    "                      'BldgType', 'CentralAir', 'RoofStyle', 'RoofMatl', 'Exterior1st', 'Exterior2nd', 'MasVnrType',\n",
    "                      'Foundation', 'MiscFeature', 'SaleType', 'SaleCondition', 'MasVnrType', 'Heating']\n",
    "\n",
    "# Create dummies and concatenate them to the original dataframe\n",
    "df = pd.concat([df, pd.get_dummies(df[columns_to_dummify], prefix=columns_to_dummify)], axis=1)\n",
    "\n",
    "# Drop the original columns\n",
    "df.drop(columns_to_dummify, axis=1, inplace=True)\n"
   ]
  },
  {
   "cell_type": "code",
   "execution_count": 84,
   "metadata": {},
   "outputs": [
    {
     "data": {
      "text/plain": [
       "<Axes: xlabel='SalePrice', ylabel='Density'>"
      ]
     },
     "execution_count": 84,
     "metadata": {},
     "output_type": "execute_result"
    },
    {
     "data": {
      "image/png": "[encoded data removed]",
      "text/plain": [
       "<Figure size 640x480 with 1 Axes>"
      ]
     },
     "metadata": {},
     "output_type": "display_data"
    }
   ],
   "source": [
    "sn.distplot(df['SalePrice'])"
   ]
  },
  {
   "cell_type": "code",
   "execution_count": 85,
   "metadata": {},
   "outputs": [
    {
     "data": {
      "text/html": [
       "<div>\n",
       "<style scoped>\n",
       "    .dataframe tbody tr th:only-of-type {\n",
       "        vertical-align: middle;\n",
       "    }\n",
       "\n",
       "    .dataframe tbody tr th {\n",
       "        vertical-align: top;\n",
       "    }\n",
       "\n",
       "    .dataframe thead th {\n",
       "        text-align: right;\n",
       "    }\n",
       "</style>\n",
       "<table border=\"1\" class=\"dataframe\">\n",
       "  <thead>\n",
       "    <tr style=\"text-align: right;\">\n",
       "      <th></th>\n",
       "      <th>OverallQual</th>\n",
       "      <th>GrLivArea</th>\n",
       "      <th>ExterQual</th>\n",
       "      <th>KitchenQual</th>\n",
       "      <th>GarageCars</th>\n",
       "      <th>GarageArea</th>\n",
       "      <th>TotalBsmtSF</th>\n",
       "      <th>1stFlrSF</th>\n",
       "      <th>BsmtQual</th>\n",
       "      <th>FullBath</th>\n",
       "    </tr>\n",
       "  </thead>\n",
       "  <tbody>\n",
       "    <tr>\n",
       "      <th>0</th>\n",
       "      <td>7</td>\n",
       "      <td>1710</td>\n",
       "      <td>4</td>\n",
       "      <td>4</td>\n",
       "      <td>2</td>\n",
       "      <td>548</td>\n",
       "      <td>856</td>\n",
       "      <td>856</td>\n",
       "      <td>5</td>\n",
       "      <td>2</td>\n",
       "    </tr>\n",
       "    <tr>\n",
       "      <th>1</th>\n",
       "      <td>6</td>\n",
       "      <td>1262</td>\n",
       "      <td>3</td>\n",
       "      <td>3</td>\n",
       "      <td>2</td>\n",
       "      <td>460</td>\n",
       "      <td>1262</td>\n",
       "      <td>1262</td>\n",
       "      <td>5</td>\n",
       "      <td>2</td>\n",
       "    </tr>\n",
       "    <tr>\n",
       "      <th>2</th>\n",
       "      <td>7</td>\n",
       "      <td>1786</td>\n",
       "      <td>4</td>\n",
       "      <td>4</td>\n",
       "      <td>2</td>\n",
       "      <td>608</td>\n",
       "      <td>920</td>\n",
       "      <td>920</td>\n",
       "      <td>5</td>\n",
       "      <td>2</td>\n",
       "    </tr>\n",
       "    <tr>\n",
       "      <th>3</th>\n",
       "      <td>7</td>\n",
       "      <td>1717</td>\n",
       "      <td>3</td>\n",
       "      <td>4</td>\n",
       "      <td>3</td>\n",
       "      <td>642</td>\n",
       "      <td>756</td>\n",
       "      <td>961</td>\n",
       "      <td>4</td>\n",
       "      <td>1</td>\n",
       "    </tr>\n",
       "    <tr>\n",
       "      <th>4</th>\n",
       "      <td>8</td>\n",
       "      <td>2198</td>\n",
       "      <td>4</td>\n",
       "      <td>4</td>\n",
       "      <td>3</td>\n",
       "      <td>836</td>\n",
       "      <td>1145</td>\n",
       "      <td>1145</td>\n",
       "      <td>5</td>\n",
       "      <td>2</td>\n",
       "    </tr>\n",
       "    <tr>\n",
       "      <th>...</th>\n",
       "      <td>...</td>\n",
       "      <td>...</td>\n",
       "      <td>...</td>\n",
       "      <td>...</td>\n",
       "      <td>...</td>\n",
       "      <td>...</td>\n",
       "      <td>...</td>\n",
       "      <td>...</td>\n",
       "      <td>...</td>\n",
       "      <td>...</td>\n",
       "    </tr>\n",
       "    <tr>\n",
       "      <th>1455</th>\n",
       "      <td>6</td>\n",
       "      <td>1647</td>\n",
       "      <td>3</td>\n",
       "      <td>3</td>\n",
       "      <td>2</td>\n",
       "      <td>460</td>\n",
       "      <td>953</td>\n",
       "      <td>953</td>\n",
       "      <td>5</td>\n",
       "      <td>2</td>\n",
       "    </tr>\n",
       "    <tr>\n",
       "      <th>1456</th>\n",
       "      <td>6</td>\n",
       "      <td>2073</td>\n",
       "      <td>3</td>\n",
       "      <td>3</td>\n",
       "      <td>2</td>\n",
       "      <td>500</td>\n",
       "      <td>1542</td>\n",
       "      <td>2073</td>\n",
       "      <td>5</td>\n",
       "      <td>2</td>\n",
       "    </tr>\n",
       "    <tr>\n",
       "      <th>1457</th>\n",
       "      <td>7</td>\n",
       "      <td>2340</td>\n",
       "      <td>5</td>\n",
       "      <td>4</td>\n",
       "      <td>1</td>\n",
       "      <td>252</td>\n",
       "      <td>1152</td>\n",
       "      <td>1188</td>\n",
       "      <td>4</td>\n",
       "      <td>2</td>\n",
       "    </tr>\n",
       "    <tr>\n",
       "      <th>1458</th>\n",
       "      <td>5</td>\n",
       "      <td>1078</td>\n",
       "      <td>3</td>\n",
       "      <td>4</td>\n",
       "      <td>1</td>\n",
       "      <td>240</td>\n",
       "      <td>1078</td>\n",
       "      <td>1078</td>\n",
       "      <td>4</td>\n",
       "      <td>1</td>\n",
       "    </tr>\n",
       "    <tr>\n",
       "      <th>1459</th>\n",
       "      <td>5</td>\n",
       "      <td>1256</td>\n",
       "      <td>4</td>\n",
       "      <td>3</td>\n",
       "      <td>1</td>\n",
       "      <td>276</td>\n",
       "      <td>1256</td>\n",
       "      <td>1256</td>\n",
       "      <td>4</td>\n",
       "      <td>1</td>\n",
       "    </tr>\n",
       "  </tbody>\n",
       "</table>\n",
       "<p>1460 rows × 10 columns</p>\n",
       "</div>"
      ],
      "text/plain": [
       "      OverallQual  GrLivArea  ExterQual  KitchenQual  GarageCars  GarageArea   \n",
       "0               7       1710          4            4           2         548  \\\n",
       "1               6       1262          3            3           2         460   \n",
       "2               7       1786          4            4           2         608   \n",
       "3               7       1717          3            4           3         642   \n",
       "4               8       2198          4            4           3         836   \n",
       "...           ...        ...        ...          ...         ...         ...   \n",
       "1455            6       1647          3            3           2         460   \n",
       "1456            6       2073          3            3           2         500   \n",
       "1457            7       2340          5            4           1         252   \n",
       "1458            5       1078          3            4           1         240   \n",
       "1459            5       1256          4            3           1         276   \n",
       "\n",
       "      TotalBsmtSF  1stFlrSF  BsmtQual  FullBath  \n",
       "0             856       856         5         2  \n",
       "1            1262      1262         5         2  \n",
       "2             920       920         5         2  \n",
       "3             756       961         4         1  \n",
       "4            1145      1145         5         2  \n",
       "...           ...       ...       ...       ...  \n",
       "1455          953       953         5         2  \n",
       "1456         1542      2073         5         2  \n",
       "1457         1152      1188         4         2  \n",
       "1458         1078      1078         4         1  \n",
       "1459         1256      1256         4         1  \n",
       "\n",
       "[1460 rows x 10 columns]"
      ]
     },
     "execution_count": 85,
     "metadata": {},
     "output_type": "execute_result"
    }
   ],
   "source": [
    "corr_matrix = df.corr()\n",
    "\n",
    "# Sort the correlations by their absolute values for 'Saleprice'\n",
    "top_corr_features = corr_matrix['SalePrice'].abs().sort_values(ascending=False).index[1:11]\n",
    "df[top_corr_features]"
   ]
  },
  {
   "cell_type": "code",
   "execution_count": 86,
   "metadata": {},
   "outputs": [
    {
     "data": {
      "text/plain": [
       "OverallQual   0.79\n",
       "GrLivArea     0.71\n",
       "ExterQual     0.68\n",
       "KitchenQual   0.66\n",
       "GarageCars    0.64\n",
       "GarageArea    0.62\n",
       "TotalBsmtSF   0.61\n",
       "1stFlrSF      0.61\n",
       "BsmtQual      0.59\n",
       "FullBath      0.56\n",
       "Name: SalePrice, dtype: float64"
      ]
     },
     "execution_count": 86,
     "metadata": {},
     "output_type": "execute_result"
    }
   ],
   "source": [
    "corr_matrix['SalePrice'].abs().sort_values(ascending=False).iloc[1:11]"
   ]
  },
  {
   "cell_type": "code",
   "execution_count": 87,
   "metadata": {
    "scrolled": true
   },
   "outputs": [
    {
     "data": {
      "text/html": [
       "<div>\n",
       "<style scoped>\n",
       "    .dataframe tbody tr th:only-of-type {\n",
       "        vertical-align: middle;\n",
       "    }\n",
       "\n",
       "    .dataframe tbody tr th {\n",
       "        vertical-align: top;\n",
       "    }\n",
       "\n",
       "    .dataframe thead th {\n",
       "        text-align: right;\n",
       "    }\n",
       "</style>\n",
       "<table border=\"1\" class=\"dataframe\">\n",
       "  <thead>\n",
       "    <tr style=\"text-align: right;\">\n",
       "      <th></th>\n",
       "      <th>OverallQual</th>\n",
       "      <th>GrLivArea</th>\n",
       "      <th>ExterQual</th>\n",
       "      <th>KitchenQual</th>\n",
       "      <th>GarageCars</th>\n",
       "      <th>GarageArea</th>\n",
       "      <th>TotalBsmtSF</th>\n",
       "      <th>1stFlrSF</th>\n",
       "      <th>BsmtQual</th>\n",
       "      <th>FullBath</th>\n",
       "    </tr>\n",
       "  </thead>\n",
       "  <tbody>\n",
       "    <tr>\n",
       "      <th>count</th>\n",
       "      <td>1460.00</td>\n",
       "      <td>1460.00</td>\n",
       "      <td>1460.00</td>\n",
       "      <td>1460.00</td>\n",
       "      <td>1460.00</td>\n",
       "      <td>1460.00</td>\n",
       "      <td>1460.00</td>\n",
       "      <td>1460.00</td>\n",
       "      <td>1460.00</td>\n",
       "      <td>1460.00</td>\n",
       "    </tr>\n",
       "    <tr>\n",
       "      <th>mean</th>\n",
       "      <td>6.10</td>\n",
       "      <td>1515.46</td>\n",
       "      <td>3.40</td>\n",
       "      <td>3.51</td>\n",
       "      <td>1.77</td>\n",
       "      <td>472.98</td>\n",
       "      <td>1057.43</td>\n",
       "      <td>1162.63</td>\n",
       "      <td>4.49</td>\n",
       "      <td>1.57</td>\n",
       "    </tr>\n",
       "    <tr>\n",
       "      <th>std</th>\n",
       "      <td>1.38</td>\n",
       "      <td>525.48</td>\n",
       "      <td>0.57</td>\n",
       "      <td>0.66</td>\n",
       "      <td>0.75</td>\n",
       "      <td>213.80</td>\n",
       "      <td>438.71</td>\n",
       "      <td>386.59</td>\n",
       "      <td>0.88</td>\n",
       "      <td>0.55</td>\n",
       "    </tr>\n",
       "    <tr>\n",
       "      <th>min</th>\n",
       "      <td>1.00</td>\n",
       "      <td>334.00</td>\n",
       "      <td>2.00</td>\n",
       "      <td>2.00</td>\n",
       "      <td>0.00</td>\n",
       "      <td>0.00</td>\n",
       "      <td>0.00</td>\n",
       "      <td>334.00</td>\n",
       "      <td>1.00</td>\n",
       "      <td>0.00</td>\n",
       "    </tr>\n",
       "    <tr>\n",
       "      <th>25%</th>\n",
       "      <td>5.00</td>\n",
       "      <td>1129.50</td>\n",
       "      <td>3.00</td>\n",
       "      <td>3.00</td>\n",
       "      <td>1.00</td>\n",
       "      <td>334.50</td>\n",
       "      <td>795.75</td>\n",
       "      <td>882.00</td>\n",
       "      <td>4.00</td>\n",
       "      <td>1.00</td>\n",
       "    </tr>\n",
       "    <tr>\n",
       "      <th>50%</th>\n",
       "      <td>6.00</td>\n",
       "      <td>1464.00</td>\n",
       "      <td>3.00</td>\n",
       "      <td>3.00</td>\n",
       "      <td>2.00</td>\n",
       "      <td>480.00</td>\n",
       "      <td>991.50</td>\n",
       "      <td>1087.00</td>\n",
       "      <td>5.00</td>\n",
       "      <td>2.00</td>\n",
       "    </tr>\n",
       "    <tr>\n",
       "      <th>75%</th>\n",
       "      <td>7.00</td>\n",
       "      <td>1776.75</td>\n",
       "      <td>4.00</td>\n",
       "      <td>4.00</td>\n",
       "      <td>2.00</td>\n",
       "      <td>576.00</td>\n",
       "      <td>1298.25</td>\n",
       "      <td>1391.25</td>\n",
       "      <td>5.00</td>\n",
       "      <td>2.00</td>\n",
       "    </tr>\n",
       "    <tr>\n",
       "      <th>max</th>\n",
       "      <td>10.00</td>\n",
       "      <td>5642.00</td>\n",
       "      <td>5.00</td>\n",
       "      <td>5.00</td>\n",
       "      <td>4.00</td>\n",
       "      <td>1418.00</td>\n",
       "      <td>6110.00</td>\n",
       "      <td>4692.00</td>\n",
       "      <td>6.00</td>\n",
       "      <td>3.00</td>\n",
       "    </tr>\n",
       "  </tbody>\n",
       "</table>\n",
       "</div>"
      ],
      "text/plain": [
       "       OverallQual  GrLivArea  ExterQual  KitchenQual  GarageCars  GarageArea   \n",
       "count      1460.00    1460.00    1460.00      1460.00     1460.00     1460.00  \\\n",
       "mean          6.10    1515.46       3.40         3.51        1.77      472.98   \n",
       "std           1.38     525.48       0.57         0.66        0.75      213.80   \n",
       "min           1.00     334.00       2.00         2.00        0.00        0.00   \n",
       "25%           5.00    1129.50       3.00         3.00        1.00      334.50   \n",
       "50%           6.00    1464.00       3.00         3.00        2.00      480.00   \n",
       "75%           7.00    1776.75       4.00         4.00        2.00      576.00   \n",
       "max          10.00    5642.00       5.00         5.00        4.00     1418.00   \n",
       "\n",
       "       TotalBsmtSF  1stFlrSF  BsmtQual  FullBath  \n",
       "count      1460.00   1460.00   1460.00   1460.00  \n",
       "mean       1057.43   1162.63      4.49      1.57  \n",
       "std         438.71    386.59      0.88      0.55  \n",
       "min           0.00    334.00      1.00      0.00  \n",
       "25%         795.75    882.00      4.00      1.00  \n",
       "50%         991.50   1087.00      5.00      2.00  \n",
       "75%        1298.25   1391.25      5.00      2.00  \n",
       "max        6110.00   4692.00      6.00      3.00  "
      ]
     },
     "execution_count": 87,
     "metadata": {},
     "output_type": "execute_result"
    }
   ],
   "source": [
    "df[top_corr_features].describe()"
   ]
  },
  {
   "cell_type": "code",
   "execution_count": 88,
   "metadata": {},
   "outputs": [
    {
     "data": {
      "text/plain": [
       "<matplotlib.collections.PathCollection at 0x2598c12a910>"
      ]
     },
     "execution_count": 88,
     "metadata": {},
     "output_type": "execute_result"
    },
    {
     "data": {
      "image/png": "[encoded data removed]",
      "text/plain": [
       "<Figure size 640x480 with 1 Axes>"
      ]
     },
     "metadata": {},
     "output_type": "display_data"
    }
   ],
   "source": [
    "plt.scatter(df['SalePrice'], df['GrLivArea'])"
   ]
  },
  {
   "cell_type": "code",
   "execution_count": 89,
   "metadata": {},
   "outputs": [],
   "source": [
    "def fillna(df):\n",
    "    cols_with_nans = df.columns[df.isna().any()]\n",
    "    for col in cols_with_nans:\n",
    "        df[col].fillna(df[col].mean(), inplace=True)\n",
    "    return df"
   ]
  },
  {
   "cell_type": "code",
   "execution_count": 90,
   "metadata": {},
   "outputs": [],
   "source": [
    "df = fillna(df)"
   ]
  },
  {
   "cell_type": "code",
   "execution_count": 91,
   "metadata": {},
   "outputs": [
    {
     "data": {
      "text/plain": [
       "Id              False\n",
       "MSSubClass      False\n",
       "LotFrontage     False\n",
       "LotArea         False\n",
       "LandContour     False\n",
       "                ...  \n",
       "Heating_GasA    False\n",
       "Heating_GasW    False\n",
       "Heating_Grav    False\n",
       "Heating_OthW    False\n",
       "Heating_Wall    False\n",
       "Length: 210, dtype: bool"
      ]
     },
     "execution_count": 91,
     "metadata": {},
     "output_type": "execute_result"
    }
   ],
   "source": [
    "df.isna().any()"
   ]
  },
  {
   "cell_type": "code",
   "execution_count": 92,
   "metadata": {},
   "outputs": [],
   "source": [
    "x = df.drop(columns=['SalePrice'])\n",
    "y = df['SalePrice']"
   ]
  },
  {
   "cell_type": "markdown",
   "metadata": {},
   "source": [
    "#### outlier treatment"
   ]
  },
  {
   "cell_type": "code",
   "execution_count": 93,
   "metadata": {},
   "outputs": [],
   "source": [
    "# Assume X is your feature matrix and y is your target variable\n",
    "# Choose a linear regression model for your data\n",
    "model = RANSACRegressor(random_state=14)\n",
    "\n",
    "# Fit the model to your data\n",
    "model.fit(x, y)\n",
    "\n",
    "# Predict the values for all data points\n",
    "y_pred = model.predict(x)\n",
    "\n",
    "# Calculate the residuals\n",
    "residuals = np.abs(y - y_pred)\n",
    "\n",
    "# Choose a threshold value for the residuals (e.g., 3 standard deviations)\n",
    "threshold = np.std(residuals) * 3\n",
    "\n",
    "# Identify outliers as data points whose residuals are above the threshold and get their indeces to clean y also\n",
    "outliers = x[residuals > threshold]\n",
    "outliers_indeces = list(outliers.index)\n",
    "\n",
    "\n"
   ]
  },
  {
   "cell_type": "code",
   "execution_count": 198,
   "metadata": {},
   "outputs": [],
   "source": [
    "# Remove outliers from the dataset \n",
    "cleaned_y = y.drop(outliers_indeces, axis=0)\n",
    "cleaned_x = x.drop(outliers_indeces, axis=0)\n"
   ]
  },
  {
   "cell_type": "code",
   "execution_count": 199,
   "metadata": {},
   "outputs": [
    {
     "name": "stdout",
     "output_type": "stream",
     "text": [
      "(1432,)\n",
      "(1432, 209)\n",
      "False\n"
     ]
    }
   ],
   "source": [
    "print(cleaned_y.shape)\n",
    "print(cleaned_x.shape)\n",
    "print((cleaned_x.dtypes=='object').any()) #-> no object cols"
   ]
  },
  {
   "cell_type": "code",
   "execution_count": 200,
   "metadata": {},
   "outputs": [
    {
     "data": {
      "text/plain": [
       "176486.0"
      ]
     },
     "execution_count": 200,
     "metadata": {},
     "output_type": "execute_result"
    }
   ],
   "source": [
    "avg_sale_price = np.around(np.mean(cleaned_y))\n",
    "avg_sale_price\n"
   ]
  },
  {
   "cell_type": "markdown",
   "metadata": {},
   "source": [
    "### Feature selection"
   ]
  },
  {
   "cell_type": "code",
   "execution_count": 132,
   "metadata": {},
   "outputs": [],
   "source": [
    "cleaned_ds = pd.concat([cleaned_x,cleaned_y], axis=1)\n",
    "cleaned_ds"
   ]
  },
  {
   "cell_type": "code",
   "execution_count": 286,
   "metadata": {},
   "outputs": [
    {
     "data": {
      "text/plain": [
       "['OverallQual',\n",
       " 'GrLivArea',\n",
       " 'ExterQual',\n",
       " 'KitchenQual',\n",
       " 'GarageCars',\n",
       " 'GarageArea',\n",
       " 'TotalBsmtSF',\n",
       " '1stFlrSF']"
      ]
     },
     "execution_count": 286,
     "metadata": {},
     "output_type": "execute_result"
    }
   ],
   "source": [
    "#Using pearson correlation\n",
    "pearson_corr = cleaned_ds.corr()\n",
    "\n",
    "# Sort the correlations by their absolute values for 'Saleprice' and set corr threshold to 0.4 \n",
    "top_corr_features = list(pearson_corr['SalePrice'].abs()[pearson_corr['SalePrice']>0.6].abs().sort_values(ascending=False).index[1:15])\n",
    "top_corr_features\n"
   ]
  },
  {
   "cell_type": "markdown",
   "metadata": {},
   "source": [
    "# Modelling"
   ]
  },
  {
   "cell_type": "markdown",
   "metadata": {},
   "source": [
    "### 1 variant - using previous Feature selection, find the 5 best models\n"
   ]
  },
  {
   "cell_type": "code",
   "execution_count": 287,
   "metadata": {},
   "outputs": [],
   "source": [
    "top_x = cleaned_x[top_corr_features]\n",
    "pearson_ds = pd.concat([top_x,cleaned_y],axis=1)\n",
    "pearson_ds.name = 'pearson' #used later for RMSE columns!"
   ]
  },
  {
   "cell_type": "markdown",
   "metadata": {},
   "source": [
    "### 2 variant - using sklearn feature_selection methods on 'cleaned_ds', find 5 best models"
   ]
  },
  {
   "cell_type": "code",
   "execution_count": 288,
   "metadata": {},
   "outputs": [],
   "source": [
    "from sklearn.feature_selection import SelectKBest, mutual_info_regression, RFECV\n",
    "from sklearn.linear_model import LinearRegression"
   ]
  },
  {
   "cell_type": "code",
   "execution_count": 289,
   "metadata": {},
   "outputs": [],
   "source": [
    "#1 SelectKBest + mutual info\n",
    "selector = SelectKBest(score_func=mutual_info_regression, k=10)\n",
    "mutual_x = pd.DataFrame(selector.fit_transform(cleaned_x, cleaned_y))\n"
   ]
  },
  {
   "cell_type": "code",
   "execution_count": 290,
   "metadata": {},
   "outputs": [],
   "source": [
    "#2 RFECV - with cross-validation\n",
    "# Create a custom scorer for negative RMSE\n",
    "def rmse(y_true, y_pred):\n",
    "    return np.sqrt(mean_squared_error(y_true, y_pred))\n",
    "rmse_scorer = make_scorer(rmse, greater_is_better=False)\n",
    "\n",
    "estimator = LinearRegression()\n",
    "selector = RFECV(estimator,cv=5, step=1, scoring=negative_rmse_scorer)\n",
    "rfecv_x = pd.DataFrame(selector.fit_transform(cleaned_x, cleaned_y))"
   ]
  },
  {
   "cell_type": "markdown",
   "metadata": {},
   "source": [
    "### Prepare for multiple lazyPredict evaluations\n"
   ]
  },
  {
   "cell_type": "code",
   "execution_count": 291,
   "metadata": {},
   "outputs": [],
   "source": [
    "#Here you can put any ds for evaluation. Don't forget to add name attribute\n",
    "cleaned_ds = pd.concat([cleaned_x,cleaned_y],axis=1)\n",
    "mutual_ds = pd.concat([mutual_x,cleaned_y], axis=1)\n",
    "rfecv_ds = pd.concat([rfecv_x,cleaned_y],axis=1)\n",
    "rfecv_ds.dropna(inplace=True)\n",
    "mutual_ds.dropna(inplace=True)\n",
    "cleaned_ds.name = 'clean'\n",
    "mutual_ds.name = 'mutual'\n",
    "rfecv_ds.name = 'rfecv'"
   ]
  },
  {
   "cell_type": "markdown",
   "metadata": {},
   "source": [
    "### Evaluation of accuracy of three techniques"
   ]
  },
  {
   "cell_type": "code",
   "execution_count": 292,
   "metadata": {},
   "outputs": [
    {
     "name": "stderr",
     "output_type": "stream",
     "text": [
      "100%|██████████████████████████████████████████████████████████████████████████████████| 42/42 [00:32<00:00,  1.31it/s]\n"
     ]
    },
    {
     "name": "stdout",
     "output_type": "stream",
     "text": [
      "Model\n",
      "PoissonRegressor                           19495.54\n",
      "GradientBoostingRegressor                  19801.58\n",
      "ExtraTreesRegressor                        20969.82\n",
      "LGBMRegressor                              21247.75\n",
      "LassoLarsCV                                21454.52\n",
      "LassoCV                                    21454.53\n",
      "GammaRegressor                             21475.19\n",
      "LassoLarsIC                                21539.23\n",
      "HuberRegressor                             21577.49\n",
      "RandomForestRegressor                      21702.33\n",
      "BayesianRidge                              21722.05\n",
      "LarsCV                                     21801.26\n",
      "RidgeCV                                    21805.97\n",
      "HistGradientBoostingRegressor              21820.01\n",
      "PassiveAggressiveRegressor                 21855.99\n",
      "Ridge                                      21877.26\n",
      "Lasso                                      21883.64\n",
      "LassoLars                                  21883.79\n",
      "LinearRegression                           21885.67\n",
      "TransformedTargetRegressor                 21885.67\n",
      "SGDRegressor                               22143.25\n",
      "ElasticNet                                 22323.33\n",
      "Lars                                       22799.28\n",
      "XGBRegressor                               23466.36\n",
      "TweedieRegressor                           23555.05\n",
      "BaggingRegressor                           24777.15\n",
      "AdaBoostRegressor                          24870.86\n",
      "OrthogonalMatchingPursuit                  26995.77\n",
      "OrthogonalMatchingPursuitCV                26995.77\n",
      "KNeighborsRegressor                        28598.22\n",
      "DecisionTreeRegressor                      31583.53\n",
      "ExtraTreeRegressor                         33864.79\n",
      "ElasticNetCV                               56793.45\n",
      "NuSVR                                      65159.82\n",
      "DummyRegressor                             65231.86\n",
      "SVR                                        66208.61\n",
      "QuantileRegressor                          66241.42\n",
      "KernelRidge                               178523.03\n",
      "MLPRegressor                              183843.07\n",
      "GaussianProcessRegressor                  184803.43\n",
      "LinearSVR                                 184891.92\n",
      "RANSACRegressor                 1814825957738919.75\n",
      "Name: RMSE of clean, dtype: float64\n",
      "'tuple' object has no attribute '__name__'\n",
      "Invalid Regressor(s)\n"
     ]
    },
    {
     "name": "stderr",
     "output_type": "stream",
     "text": [
      "100%|██████████████████████████████████████████████████████████████████████████████████| 42/42 [00:27<00:00,  1.55it/s]\n"
     ]
    },
    {
     "name": "stdout",
     "output_type": "stream",
     "text": [
      "Model\n",
      "PoissonRegressor                  24434.90\n",
      "RandomForestRegressor             25065.13\n",
      "HistGradientBoostingRegressor     25227.92\n",
      "KNeighborsRegressor               25314.33\n",
      "LGBMRegressor                     25450.40\n",
      "GradientBoostingRegressor         25947.02\n",
      "ExtraTreesRegressor               25953.45\n",
      "HuberRegressor                    26460.81\n",
      "GammaRegressor                    26536.96\n",
      "PassiveAggressiveRegressor        26542.71\n",
      "RidgeCV                           26571.49\n",
      "BayesianRidge                     26587.07\n",
      "LassoCV                           26596.25\n",
      "Ridge                             26601.00\n",
      "Lasso                             26604.35\n",
      "LassoLars                         26604.36\n",
      "TransformedTargetRegressor        26604.51\n",
      "LinearRegression                  26604.51\n",
      "LassoLarsIC                       26604.51\n",
      "LassoLarsCV                       26604.51\n",
      "LarsCV                            26604.51\n",
      "Lars                              26604.51\n",
      "BaggingRegressor                  26659.67\n",
      "SGDRegressor                      26677.54\n",
      "ElasticNet                        26870.34\n",
      "XGBRegressor                      26895.59\n",
      "OrthogonalMatchingPursuitCV       27140.55\n",
      "AdaBoostRegressor                 28071.08\n",
      "TweedieRegressor                  28296.11\n",
      "RANSACRegressor                   28856.47\n",
      "ExtraTreeRegressor                34745.81\n",
      "DecisionTreeRegressor             37835.86\n",
      "OrthogonalMatchingPursuit         38891.89\n",
      "ElasticNetCV                      61082.12\n",
      "NuSVR                             65130.89\n",
      "DummyRegressor                    65231.86\n",
      "SVR                               66157.54\n",
      "QuantileRegressor                 66241.45\n",
      "KernelRidge                      177165.88\n",
      "LinearSVR                        184891.92\n",
      "MLPRegressor                     185125.83\n",
      "GaussianProcessRegressor        7701581.73\n",
      "Name: RMSE of pearson, dtype: float64\n",
      "'tuple' object has no attribute '__name__'\n",
      "Invalid Regressor(s)\n"
     ]
    },
    {
     "name": "stderr",
     "output_type": "stream",
     "text": [
      "100%|██████████████████████████████████████████████████████████████████████████████████| 42/42 [00:19<00:00,  2.11it/s]\n"
     ]
    },
    {
     "name": "stdout",
     "output_type": "stream",
     "text": [
      "Model\n",
      "NuSVR                             64206.49\n",
      "DummyRegressor                    64365.69\n",
      "ElasticNetCV                      64561.53\n",
      "LassoCV                           64773.57\n",
      "BayesianRidge                     64812.63\n",
      "LassoLarsCV                       64864.16\n",
      "LarsCV                            64864.16\n",
      "GammaRegressor                    64916.63\n",
      "TweedieRegressor                  64927.83\n",
      "LassoLarsIC                       64945.01\n",
      "OrthogonalMatchingPursuit         65018.19\n",
      "ElasticNet                        65018.72\n",
      "QuantileRegressor                 65154.52\n",
      "SVR                               65156.63\n",
      "OrthogonalMatchingPursuitCV       65239.86\n",
      "RidgeCV                           65329.70\n",
      "PoissonRegressor                  65342.34\n",
      "Ridge                             65357.94\n",
      "Lasso                             65361.13\n",
      "LassoLars                         65361.13\n",
      "Lars                              65361.41\n",
      "TransformedTargetRegressor        65361.41\n",
      "LinearRegression                  65361.41\n",
      "SGDRegressor                      65710.46\n",
      "HuberRegressor                    65756.24\n",
      "PassiveAggressiveRegressor        66579.64\n",
      "GradientBoostingRegressor         68434.76\n",
      "RandomForestRegressor             69265.20\n",
      "AdaBoostRegressor                 70133.02\n",
      "BaggingRegressor                  72284.66\n",
      "KNeighborsRegressor               73077.14\n",
      "LGBMRegressor                     73336.77\n",
      "HistGradientBoostingRegressor     73681.96\n",
      "ExtraTreesRegressor               74129.44\n",
      "XGBRegressor                      78652.67\n",
      "ExtraTreeRegressor               100267.24\n",
      "DecisionTreeRegressor            106622.17\n",
      "RANSACRegressor                  107168.55\n",
      "LinearSVR                        183768.76\n",
      "MLPRegressor                     184032.05\n",
      "KernelRidge                      185309.11\n",
      "GaussianProcessRegressor        2334053.57\n",
      "Name: RMSE of mutual, dtype: float64\n",
      "'tuple' object has no attribute '__name__'\n",
      "Invalid Regressor(s)\n"
     ]
    },
    {
     "name": "stderr",
     "output_type": "stream",
     "text": [
      "100%|██████████████████████████████████████████████████████████████████████████████████| 42/42 [00:34<00:00,  1.21it/s]"
     ]
    },
    {
     "name": "stdout",
     "output_type": "stream",
     "text": [
      "Model\n",
      "NuSVR                                                     64205.88\n",
      "DummyRegressor                                            64365.69\n",
      "ElasticNetCV                                              64607.11\n",
      "QuantileRegressor                                         65154.51\n",
      "SVR                                                       65154.85\n",
      "BayesianRidge                                             65464.02\n",
      "LarsCV                                                    65711.51\n",
      "LassoLarsCV                                               65903.16\n",
      "LassoCV                                                   65954.62\n",
      "GammaRegressor                                            66182.68\n",
      "TweedieRegressor                                          66424.79\n",
      "GradientBoostingRegressor                                 66759.13\n",
      "OrthogonalMatchingPursuitCV                               67053.13\n",
      "LassoLarsIC                                               67346.25\n",
      "AdaBoostRegressor                                         67636.70\n",
      "LassoLars                                                 67673.96\n",
      "ElasticNet                                                67749.40\n",
      "RandomForestRegressor                                     67933.78\n",
      "OrthogonalMatchingPursuit                                 68888.88\n",
      "BaggingRegressor                                          71490.17\n",
      "ExtraTreesRegressor                                       72525.49\n",
      "LGBMRegressor                                             72609.95\n",
      "HistGradientBoostingRegressor                             72645.74\n",
      "PassiveAggressiveRegressor                                72889.22\n",
      "SGDRegressor                                              73237.58\n",
      "HuberRegressor                                            73259.16\n",
      "RidgeCV                                                   73260.89\n",
      "XGBRegressor                                              73787.95\n",
      "Ridge                                                     73810.28\n",
      "Lasso                                                     73951.96\n",
      "PoissonRegressor                                          74305.96\n",
      "KNeighborsRegressor                                       74400.33\n",
      "ExtraTreeRegressor                                        99705.04\n",
      "DecisionTreeRegressor                                    101662.98\n",
      "GaussianProcessRegressor                                 182467.54\n",
      "MLPRegressor                                             182724.82\n",
      "LinearSVR                                                183768.76\n",
      "KernelRidge                                              187378.07\n",
      "TransformedTargetRegressor                    40303968014086208.00\n",
      "LinearRegression                              40303968014086208.00\n",
      "RANSACRegressor                             1175403546967323904.00\n",
      "Lars                            7886860188242336901773303742464.00\n",
      "Name: RMSE of rfecv, dtype: float64\n"
     ]
    },
    {
     "name": "stderr",
     "output_type": "stream",
     "text": [
      "\n"
     ]
    }
   ],
   "source": [
    "#Evaluate the three techniques\n",
    "datasets = [cleaned_ds,pearson_ds,mutual_ds, rfecv_ds]\n",
    "lazy = LazyRegressor(verbose=0 ,ignore_warnings = True, custom_metric=mean_squared_error)\n",
    "\n",
    "for ds in datasets:\n",
    "    x_train_i, x_test_i, y_train_i, y_test_i = train_test_split(ds.drop('SalePrice',axis=1),ds['SalePrice'] , shuffle=False, random_state = 15, train_size=0.7)\n",
    "    models_i,pred_i = lazy.fit(x_train_i, x_test_i, y_train_i, y_test_i)\n",
    "    rmse_col = models_i['RMSE']\n",
    "    rmse_col.rename(f'RMSE of {ds.name}',inplace=True)\n",
    "    print(rmse_col)\n",
    "\n"
   ]
  },
  {
   "cell_type": "markdown",
   "metadata": {},
   "source": [
    "# Cross-validation and tuning of best prediction model"
   ]
  },
  {
   "cell_type": "code",
   "execution_count": 303,
   "metadata": {},
   "outputs": [],
   "source": [
    "from sklearn.linear_model import PoissonRegressor\n",
    "from sklearn.model_selection import RepeatedStratifiedKFold\n",
    "from sklearn.model_selection import RandomizedSearchCV\n",
    "from sklearn.model_selection import GridSearchCV"
   ]
  },
  {
   "cell_type": "code",
   "execution_count": 328,
   "metadata": {},
   "outputs": [],
   "source": [
    "#We'll do hyperparameter tuning on PoissonRegressor\n",
    "#Baseline is the result from lazyregressor -> 19495$\n",
    "#We'll perform random search and then grid search\n",
    "\n",
    "space = {'alpha': list(np.arange(0.01, 5.0)),\n",
    "         'warm_start': [True, False],\n",
    "         'fit_intercept': [True, False],\n",
    "         'max_iter': list(range(40, 200, 10)),\n",
    "         'tol': list(np.arange(1e-4, 2.1e-4, 1e-5))}\n",
    "\n",
    "#1 Random search\n",
    "model = PoissonRegressor()\n",
    "cv = RepeatedStratifiedKFold(n_splits=10, n_repeats=3, random_state=1) #good for regression problems\n",
    "r_search = RandomizedSearchCV(estimator=model, n_iter=100, n_jobs=-1, param_distributions=space, cv=cv, scoring=rmse_scorer)\n",
    "result = r_search.fit(cleaned_x, cleaned_y)"
   ]
  },
  {
   "cell_type": "code",
   "execution_count": 329,
   "metadata": {},
   "outputs": [
    {
     "name": "stdout",
     "output_type": "stream",
     "text": [
      "Best hyperparameters:  {'warm_start': True, 'tol': 0.00013000000000000002, 'max_iter': 190, 'fit_intercept': True, 'alpha': 2.01}\n",
      "Best score:  68882.49789382535\n"
     ]
    }
   ],
   "source": [
    "print(\"Best hyperparameters: \", result.best_params_)\n",
    "print(\"Best score: \", -result.best_score_)\n"
   ]
  },
  {
   "cell_type": "code",
   "execution_count": 317,
   "metadata": {},
   "outputs": [],
   "source": [
    "#2 Grid search"
   ]
  },
  {
   "cell_type": "code",
   "execution_count": 336,
   "metadata": {},
   "outputs": [],
   "source": [
    "# define the hyperparameter search space using the best hyperparameters found during the random search\n",
    "best_params = result.best_params_\n",
    "param_grid = {\n",
    "    'alpha': [result.best_params_['alpha']],\n",
    "    'warm_start': [result.best_params_['warm_start']],\n",
    "    'fit_intercept': [result.best_params_['fit_intercept']],\n",
    "    'max_iter': list(range(50, 200, 10)),\n",
    "    'tol': list(np.arange(1e-4, 2.1e-4, 1e-5))\n",
    "}\n",
    "\n",
    "\n",
    "# define the cross-validation scheme\n",
    "cv = RepeatedStratifiedKFold(n_splits=10, n_repeats=3, random_state=1) #good for regression problems\n",
    "\n",
    "# perform the grid search using the best hyperparameters found during the random search\n",
    "g_search = GridSearchCV(estimator=model, param_grid=param_grid, cv=cv, scoring=rmse_scorer, n_jobs=-1)\n",
    "result_grid = g_search.fit(cleaned_x, cleaned_y)\n"
   ]
  },
  {
   "cell_type": "code",
   "execution_count": 345,
   "metadata": {},
   "outputs": [
    {
     "name": "stdout",
     "output_type": "stream",
     "text": [
      "Best hyperparameters:  {'alpha': 2.01, 'fit_intercept': True, 'max_iter': 50, 'tol': 0.0001, 'warm_start': True}\n",
      "Best score:  68882.49789382535\n"
     ]
    }
   ],
   "source": [
    "print(\"Best hyperparameters: \", result_grid.best_params_)\n",
    "print(\"Best score: \", -result_grid.best_score_)\n"
   ]
  },
  {
   "cell_type": "code",
   "execution_count": null,
   "metadata": {},
   "outputs": [],
   "source": []
  },
  {
   "cell_type": "code",
   "execution_count": null,
   "metadata": {},
   "outputs": [],
   "source": []
  },
  {
   "cell_type": "code",
   "execution_count": null,
   "metadata": {},
   "outputs": [],
   "source": []
  }
 ],
 "metadata": {
  "kernelspec": {
   "display_name": "Python 3 (ipykernel)",
   "language": "python",
   "name": "python3"
  },
  "language_info": {
   "codemirror_mode": {
    "name": "ipython",
    "version": 3
   },
   "file_extension": ".py",
   "mimetype": "text/x-python",
   "name": "python",
   "nbconvert_exporter": "python",
   "pygments_lexer": "ipython3",
   "version": "3.11.0"
  }
 },
 "nbformat": 4,
 "nbformat_minor": 4
}
